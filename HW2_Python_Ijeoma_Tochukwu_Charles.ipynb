{
  "nbformat": 4,
  "nbformat_minor": 0,
  "metadata": {
    "colab": {
      "provenance": [],
      "cell_execution_strategy": "setup"
    },
    "kernelspec": {
      "name": "python3",
      "display_name": "Python 3"
    },
    "language_info": {
      "name": "python"
    }
  },
  "cells": [
    {
      "cell_type": "code",
      "execution_count": 11,
      "metadata": {
        "colab": {
          "base_uri": "https://localhost:8080/"
        },
        "id": "BYhfBbWLPH3k",
        "outputId": "de5f048a-4af7-48e8-84b8-4ef7b8de042d"
      },
      "outputs": [
        {
          "output_type": "stream",
          "name": "stdout",
          "text": [
            "Player 1? scissors\n",
            "Player 2? paper\n",
            "Player 1 wins.\n"
          ]
        }
      ],
      "source": [
        "p1 = input(\"Player 1? \")\n",
        "p2 = input(\"Player 2? \")\n",
        "\n",
        "options = [\"rock\", \"paper\", \"scissors\"]\n",
        "\n",
        "if p1 not in options or p2 not in options:\n",
        "    print(\"This input is not valid for our game!\")\n",
        "else:\n",
        "    if p1 == p2:\n",
        "        print(\"It's a tie!\")\n",
        "    elif (p1 == \"rock\" and p2 == \"scissors\") or \\\n",
        "         (p1 == \"paper\" and p2 == \"rock\") or \\\n",
        "         (p1 == \"scissors\" and p2 == \"paper\"):\n",
        "        print(\"Player 1 wins.\")\n",
        "    else:\n",
        "        print(\"Player 2 wins.\")\n"
      ]
    },
    {
      "cell_type": "code",
      "source": [
        "p = float(input(\"Enter p: \"))\n",
        "q = float(input(\"Enter q: \"))\n",
        "\n",
        "pi = 3.14\n",
        "r = q / 2\n",
        "a13 = pi * (r * r)\n",
        "a2 = p * q\n",
        "total = a13 + a2\n",
        "\n",
        "print(f\"The total area is {total:.3f}\")"
      ],
      "metadata": {
        "colab": {
          "base_uri": "https://localhost:8080/"
        },
        "id": "juMicD4rRejf",
        "outputId": "ed0c023f-3f60-4030-8832-0ae32921dbb2"
      },
      "execution_count": 5,
      "outputs": [
        {
          "output_type": "stream",
          "name": "stdout",
          "text": [
            "Enter p: 10.2\n",
            "Enter q: 15.0\n",
            "The total area is 329.625\n"
          ]
        }
      ]
    },
    {
      "cell_type": "code",
      "source": [
        "import re\n",
        "\n",
        "c = input()\n",
        "c = c.replace(\"-\", \"\")\n",
        "\n",
        "if not re.match(r\"^[456]\\d{15}$\", c) or re.search(r\"(\\d)\\1{3}\", c):\n",
        "    print(\"Invalid\")\n",
        "else:\n",
        "    print(\"Valid\")"
      ],
      "metadata": {
        "colab": {
          "base_uri": "https://localhost:8080/"
        },
        "id": "io-U_20QTysE",
        "outputId": "6e303cc5-1637-420d-c157-e49c5975e4fc"
      },
      "execution_count": 8,
      "outputs": [
        {
          "output_type": "stream",
          "name": "stdout",
          "text": [
            "61234_567-8912-3456\n",
            "Invalid\n"
          ]
        }
      ]
    },
    {
      "cell_type": "code",
      "source": [
        "data = [(\"a\", 1), (\"b\", 2), (\"a\", 3), (\"b\", 4)]\n",
        "result = {}\n",
        "for k, v in data:\n",
        "    if k in result:\n",
        "        result[k].append(v)\n",
        "    else:\n",
        "        result[k] = [v]\n",
        "print(result)"
      ],
      "metadata": {
        "colab": {
          "base_uri": "https://localhost:8080/"
        },
        "id": "QALovQ8GXmqp",
        "outputId": "9d27a6c8-9865-4fd1-9c7b-331d6ff20355"
      },
      "execution_count": 9,
      "outputs": [
        {
          "output_type": "stream",
          "name": "stdout",
          "text": [
            "{'a': [1, 3], 'b': [2, 4]}\n"
          ]
        }
      ]
    },
    {
      "cell_type": "code",
      "source": [
        "l = [[1, 2, [3, 4]], [5, 6], 7]\n",
        "r = []\n",
        "s = [l]\n",
        "while s:\n",
        "    c = s.pop()\n",
        "    if isinstance(c, list):\n",
        "        for x in reversed(c):\n",
        "            s.append(x)\n",
        "    else:\n",
        "        r.append(c)\n",
        "print(r)"
      ],
      "metadata": {
        "colab": {
          "base_uri": "https://localhost:8080/"
        },
        "id": "XCXDfbrmYzCy",
        "outputId": "ca5ecab7-0c78-4e70-f655-4002d5be38b9"
      },
      "execution_count": 12,
      "outputs": [
        {
          "output_type": "stream",
          "name": "stdout",
          "text": [
            "[1, 2, 3, 4, 5, 6, 7]\n"
          ]
        }
      ]
    }
  ]
}