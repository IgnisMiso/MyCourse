{
 "cells": [
  {
   "cell_type": "code",
   "execution_count": 1,
   "id": "44732ab1-c113-44c3-afa8-0fc3b3349812",
   "metadata": {},
   "outputs": [
    {
     "name": "stdout",
     "output_type": "stream",
     "text": [
      "Note: you may need to restart the kernel to use updated packages.Collecting demoji\n",
      "  Downloading demoji-1.1.0-py3-none-any.whl.metadata (9.2 kB)\n",
      "Downloading demoji-1.1.0-py3-none-any.whl (42 kB)\n",
      "Installing collected packages: demoji\n",
      "Successfully installed demoji-1.1.0\n",
      "\n"
     ]
    }
   ],
   "source": [
    "pip install demoji"
   ]
  },
  {
   "cell_type": "code",
   "execution_count": 2,
   "id": "40bb97b1-cc60-4c81-bc6a-a03b47e60c09",
   "metadata": {},
   "outputs": [
    {
     "name": "stderr",
     "output_type": "stream",
     "text": [
      "C:\\Users\\HP\\AppData\\Local\\Temp\\ipykernel_236\\906108046.py:22: FutureWarning: The demoji.download_codes attribute is deprecated and will be removed from demoji in a future version. It is an unused attribute as emoji codes are now distributed directly with the demoji package.\n",
      "  demoji.download_codes()\n"
     ]
    },
    {
     "name": "stdout",
     "output_type": "stream",
     "text": [
      "Enter text to convert emotions to emojis (press Enter twice to finish):\n"
     ]
    },
    {
     "name": "stdin",
     "output_type": "stream",
     "text": [
      " I was happy when I accepted the mission to be here and identify the target. I noticed he was a good boy, always excited to do cool stuff, grateful to me when I helped him with his academic work and tech stuff, and he really loves his girlfriend Fatima. He does not miss his prayers, he is actually nice and has a sense of pride in his religion and family. I was surprised when he offered me food ad snacks many times, but I turned it down because my race and religion finds it disgusting, I had hope that our acquaintance will last but unfortunately I was just doing my job. I regret hacking his girlfriend's device and his as well and sending the data to my handler who is a very scary woman. I fear her a lot, you do not want to mess with her or disobey her. We met today at our usual spot and as I was about to tell her how sweet my target is, she told me that Sarah and Yaron were neutralized in a targeted hit. Now I am so angry, there is nothing holding me back anymore, Sarah was my crush, I was hoping to meet her again in and tell her how sweet she was. I am angry and sad.\n",
      " \n"
     ]
    },
    {
     "name": "stdout",
     "output_type": "stream",
     "text": [
      "\n",
      "Converted text:\n",
      "I was 😃 when I accepted the mission to be here and identify the target. I noticed he was a good boy, always 😃 to do cool stuff, 🙏 to me when I helped him with his academic work and tech stuff, and he really loves his girlfriend Fatima. He does not miss his prayers, he is actually nice and has a sense of 🏆 in his religion and family. I was surprised when he offered me food ad snacks many times, but I turned it down because my race and religion finds it disgusting, I had 🌟 that our acquaintance will last but unfortunately I was just doing my job. I regret hacking his girlfriend's device and his as well and sending the data to my handler who is a very scary woman. I 😨 her a lot, you do not want to mess with her or disobey her. We met today at our usual spot and as I was about to tell her how sweet my target is, she told me that Sarah and Yaron were neutralized in a targeted hit. Now I am so 😣, there is nothing holding me back anymore, Sarah was my crush, I was hoping to meet her again in and tell her how sweet she was. I am 😣 and 😞.\n"
     ]
    }
   ],
   "source": [
    "import re\n",
    "import demoji\n",
    "\n",
    "emotion_map = {\n",
    "    'happiness': '😃',\n",
    "    'sadness': '😞',\n",
    "    'love': '❤️',\n",
    "    'excited': '😃',\n",
    "    'happy': '😃',\n",
    "    'sad': '😞',\n",
    "    'grateful': '🙏',\n",
    "    'angry': '😣',\n",
    "    'fear': '😨',\n",
    "    'surprise': '😲',\n",
    "    'disgust': '🤢',\n",
    "    'joy': '😊',\n",
    "    'pride': '🏆',\n",
    "    'hope': '🌟',\n",
    "    'confused': '😕'\n",
    "}\n",
    "\n",
    "demoji.download_codes()\n",
    "valid_emojis = demoji.findall(''.join(emotion_map.values()))\n",
    "for emoji in emotion_map.values():\n",
    "    if emoji not in valid_emojis:\n",
    "        print(f\"Warning: {emoji} may not display correctly.\")\n",
    "\n",
    "print(\"Enter text to convert emotions to emojis (press Enter twice to finish):\")\n",
    "lines = []\n",
    "while True:\n",
    "    line = input()\n",
    "    if line == \"\":\n",
    "        break\n",
    "    lines.append(line)\n",
    "text = \" \".join(lines)\n",
    "\n",
    "if not text.strip():\n",
    "    print(\"No text provided.\")\n",
    "else:\n",
    "    for emotion, emoji in emotion_map.items():\n",
    "        pattern = r'\\b' + re.escape(emotion) + r'\\b'\n",
    "        text = re.sub(pattern, emoji, text, flags=re.IGNORECASE)\n",
    "    print(\"\\nConverted text:\")\n",
    "    print(text)"
   ]
  },
  {
   "cell_type": "code",
   "execution_count": 7,
   "id": "51cd7c2d-8c41-4f16-bc15-b634b9b43f95",
   "metadata": {},
   "outputs": [
    {
     "name": "stdout",
     "output_type": "stream",
     "text": [
      "Users columns: ['user_id', 'age', 'country']\n",
      "Ratings columns: ['user_id', 'ISBN', 'rating']\n",
      "Books columns: ['ISBN', 'title', 'author']\n",
      "Most Reviewed Book:\n",
      "Wild Animus 459\n",
      "Least Reviewed Book:\n",
      "Past Due (Lashner, William) 4\n",
      "Highest Rated Book (>=100 reviews):\n",
      "Harry Potter and the Goblet of Fire (Book 4) 9.240223463687151\n",
      "Highest Rated Book per Country:\n",
      "              country                                              title  \\\n",
      "2           argentina               Cyrano De Bergerac (Bantam Classics)   \n",
      "16          australia                                               1984   \n",
      "1311          austria                                               1984   \n",
      "1560          belgium                                        Almost Adam   \n",
      "1692           brazil                                               1984   \n",
      "1906           canada                                               9-11   \n",
      "7214            chile                                        Dharma Bums   \n",
      "7234            china                                 A Wind in the Door   \n",
      "7386          croatia                                           Chocolat   \n",
      "7393          denmark                                        Animal Farm   \n",
      "7450          finland                                     A Time to Kill   \n",
      "7605           france    52 Deck Series: 52 Ways to Celebrate Friendship   \n",
      "8093          germany    52 Deck Series: 52 Ways to Celebrate Friendship   \n",
      "9239           greece                                 Bel Canto: A Novel   \n",
      "9251            india  From the Mixed-Up Files of Mrs. Basil E. Frank...   \n",
      "9274        indonesia                          Notes From a Small Planet   \n",
      "9281             iran                                 A Perfect Stranger   \n",
      "9432          ireland                                  A Little Princess   \n",
      "9546           israel           American Psycho (Vintage Contemporaries)   \n",
      "9600            italy                                Beyond The Far Side   \n",
      "9794            japan  A Brief History of Time : From the Big Bang to...   \n",
      "9911         malaysia                                1st to Die: A Novel   \n",
      "10564          mexico             El Codigo Da Vinci / The Da Vinci Code   \n",
      "10616     netherlands  A History of the World in 10 1/2 Chapters (Vin...   \n",
      "11115     new zealand          A Heartbreaking Work of Staggering Genius   \n",
      "11357         nigeria            Seven Habits Of Highly Effective People   \n",
      "11362          norway  A Lesson Before Dying (Vintage Contemporaries ...   \n",
      "11493        pakistan                            The Secret Life of Bees   \n",
      "11497     philippines            A Fire Upon The Deep (Zones of Thought)   \n",
      "11659          poland  A Woman of No Importance (Penguin Popular Clas...   \n",
      "11732        portugal                          1984 (Everyman's Library)   \n",
      "12643         romania                                Angels &amp; Demons   \n",
      "12776       singapore    52 Deck Series: 52 Ways to Celebrate Friendship   \n",
      "12958        slovakia          Selected Tales (Penguin Popular Classics)   \n",
      "12959    south africa                                 A Walk to Remember   \n",
      "12979     south korea                                 A Bend in the Road   \n",
      "13006           spain    52 Deck Series: 52 Ways to Celebrate Friendship   \n",
      "13857          sweden                      Dracula (Wordsworth Classics)   \n",
      "13936     switzerland                           Angela's Ashes: A Memoir   \n",
      "14283          turkey                             The Catcher in the Rye   \n",
      "14297  united kingdom  2001 Cross-Stitch Designs: The Essential Refer...   \n",
      "16235             usa  2001 Cross-Stitch Designs: The Essential Refer...   \n",
      "\n",
      "       rating  \n",
      "2        10.0  \n",
      "16       10.0  \n",
      "1311     10.0  \n",
      "1560     10.0  \n",
      "1692     10.0  \n",
      "1906     10.0  \n",
      "7214     10.0  \n",
      "7234     10.0  \n",
      "7386      9.0  \n",
      "7393     10.0  \n",
      "7450     10.0  \n",
      "7605     10.0  \n",
      "8093     10.0  \n",
      "9239     10.0  \n",
      "9251     10.0  \n",
      "9274      9.0  \n",
      "9281     10.0  \n",
      "9432     10.0  \n",
      "9546      9.0  \n",
      "9600     10.0  \n",
      "9794     10.0  \n",
      "9911     10.0  \n",
      "10564    10.0  \n",
      "10616    10.0  \n",
      "11115    10.0  \n",
      "11357    10.0  \n",
      "11362    10.0  \n",
      "11493     7.0  \n",
      "11497    10.0  \n",
      "11659    10.0  \n",
      "11732    10.0  \n",
      "12643    10.0  \n",
      "12776    10.0  \n",
      "12958    10.0  \n",
      "12959    10.0  \n",
      "12979    10.0  \n",
      "13006    10.0  \n",
      "13857    10.0  \n",
      "13936    10.0  \n",
      "14283    10.0  \n",
      "14297    10.0  \n",
      "16235    10.0  \n"
     ]
    }
   ],
   "source": [
    "import pandas as pd\n",
    "\n",
    "users_url = \"https://raw.githubusercontent.com/Majid-Sohrabi/2025_Python_Cognitive/main/Datasets/users.txt\"\n",
    "ratings_url = \"https://raw.githubusercontent.com/Majid-Sohrabi/2025_Python_Cognitive/main/Datasets/ratings.txt\"\n",
    "books_url = \"https://raw.githubusercontent.com/Majid-Sohrabi/2025_Python_Cognitive/main/Datasets/books.txt\"\n",
    "\n",
    "users = pd.read_csv(users_url, sep=',', encoding='latin-1', on_bad_lines='skip')\n",
    "ratings = pd.read_csv(ratings_url, sep=',', encoding='latin-1', on_bad_lines='skip')\n",
    "books = pd.read_csv(books_url, sep=',', encoding='latin-1', on_bad_lines='skip')\n",
    "\n",
    "print(\"Users columns:\", users.columns.tolist())\n",
    "print(\"Ratings columns:\", ratings.columns.tolist())\n",
    "print(\"Books columns:\", books.columns.tolist())\n",
    "\n",
    "merged = ratings.merge(users, on='user_id').merge(books, on='ISBN')\n",
    "merged.to_csv(\"IJEOMATOCHUKWU_BOOKS_DATA.txt\", index=False)\n",
    "\n",
    "review_counts = merged['title'].value_counts()\n",
    "print(\"Most Reviewed Book:\")\n",
    "print(review_counts.idxmax(), review_counts.max())\n",
    "print(\"Least Reviewed Book:\")\n",
    "print(review_counts.idxmin(), review_counts.min())\n",
    "\n",
    "avg_ratings = merged.groupby('title').agg({'rating': ['mean', 'count']})\n",
    "avg_ratings.columns = ['avg_rating', 'review_count']\n",
    "filtered = avg_ratings[avg_ratings['review_count'] >= 100]\n",
    "top_book = filtered['avg_rating'].idxmax()\n",
    "print(\"Highest Rated Book (>=100 reviews):\")\n",
    "print(top_book, filtered.loc[top_book, 'avg_rating'])\n",
    "\n",
    "valid_ratings = merged[merged['rating'] > 0]\n",
    "country_book = valid_ratings.groupby(['country', 'title'])['rating'].mean().reset_index()\n",
    "top_books = country_book.loc[country_book.groupby('country')['rating'].idxmax()]\n",
    "print(\"Highest Rated Book per Country:\")\n",
    "print(top_books)\n",
    "\n"
   ]
  },
  {
   "cell_type": "code",
   "execution_count": 8,
   "id": "34f96b40-1cd3-42f0-a579-d98dfeecd69b",
   "metadata": {},
   "outputs": [
    {
     "name": "stdout",
     "output_type": "stream",
     "text": [
      "Student ID: 9c146d6d-77ce-459e-a910-316b6f5398cb\n",
      "Age: 18, Marks: 92\n",
      "  Data: Valid\n",
      "  Admission: Qualified\n",
      "  Scholarship: 75%\n",
      "\n",
      "Student ID: f793e9ce-3654-4bbb-9bf4-d30e761f3b7f\n",
      "Age: 19, Marks: 78\n",
      "  Data: Valid\n",
      "  Admission: Qualified\n",
      "  Scholarship: 50%\n",
      "\n",
      "Student ID: 701c1a12-fcd7-4183-95b2-ff8370a85cb5\n",
      "Age: 16, Marks: 88\n",
      "  Data: Invalid\n",
      "\n",
      "Student ID: a4d7a301-b99b-41b5-8030-d79bb4acec98\n",
      "Age: 20, Marks: 45\n",
      "  Data: Valid\n",
      "  Admission: Qualified\n",
      "  Scholarship: 0%\n",
      "\n",
      "Student ID: 65c31976-48eb-449e-bf77-0a1938af5d10\n",
      "Age: 18, Marks: 98\n",
      "  Data: Valid\n",
      "  Admission: Qualified\n",
      "  Scholarship: 100%\n",
      "\n"
     ]
    }
   ],
   "source": [
    "import uuid\n",
    "\n",
    "class Student:\n",
    "    def __init__(self, student_id, age, marks):\n",
    "        self.student_id = student_id\n",
    "        self.age = age\n",
    "        self.marks = marks\n",
    "\n",
    "    def is_valid(self):\n",
    "        return self.age > 17 and 0 <= self.marks <= 100\n",
    "\n",
    "    def qualifies_admission(self):\n",
    "        return self.is_valid() and self.marks >= 35\n",
    "\n",
    "    def get_scholarship(self):\n",
    "        if not self.qualifies_admission():\n",
    "            return 0\n",
    "        if 96 <= self.marks <= 100:\n",
    "            return 100\n",
    "        elif 86 <= self.marks <= 95:\n",
    "            return 75\n",
    "        elif 76 <= self.marks <= 85:\n",
    "            return 50\n",
    "        elif 60 <= self.marks <= 75:\n",
    "            return 20\n",
    "        elif 50 <= self.marks <= 60:\n",
    "            return 10\n",
    "        else:\n",
    "            return 0\n",
    "\n",
    "students = [\n",
    "    Student(str(uuid.uuid4()), 18, 92),\n",
    "    Student(str(uuid.uuid4()), 19, 78),\n",
    "    Student(str(uuid.uuid4()), 16, 88),\n",
    "    Student(str(uuid.uuid4()), 20, 45),\n",
    "    Student(str(uuid.uuid4()), 18, 98)\n",
    "]\n",
    "\n",
    "for student in students:\n",
    "    print(f\"Student ID: {student.student_id}\")\n",
    "    print(f\"Age: {student.age}, Marks: {student.marks}\")\n",
    "    if student.is_valid():\n",
    "        print(\"  Data: Valid\")\n",
    "        if student.qualifies_admission():\n",
    "            print(\"  Admission: Qualified\")\n",
    "            scholarship = student.get_scholarship()\n",
    "            print(f\"  Scholarship: {scholarship}%\")\n",
    "        else:\n",
    "            print(\"  Admission: Not Qualified\")\n",
    "    else:\n",
    "        print(\"  Data: Invalid\")\n",
    "    print()"
   ]
  },
  {
   "cell_type": "code",
   "execution_count": 10,
   "id": "9748819a-5de4-4788-8008-5d3d4e6a361b",
   "metadata": {},
   "outputs": [
    {
     "name": "stdout",
     "output_type": "stream",
     "text": [
      "\n",
      "TollBooth Menu:\n",
      "1. Bike/Two-Wheeler/Scooter (Free)\n",
      "2. Car (500 rubles)\n",
      "3. Truck/Bus (1200 rubles)\n",
      "4. Heavy-duty equipment (1500 rubles)\n",
      "5. Exit\n"
     ]
    },
    {
     "name": "stdin",
     "output_type": "stream",
     "text": [
      "Enter choice (1-5):  car\n"
     ]
    },
    {
     "name": "stdout",
     "output_type": "stream",
     "text": [
      "Invalid choice, please try again.\n",
      "\n",
      "TollBooth Menu:\n",
      "1. Bike/Two-Wheeler/Scooter (Free)\n",
      "2. Car (500 rubles)\n",
      "3. Truck/Bus (1200 rubles)\n",
      "4. Heavy-duty equipment (1500 rubles)\n",
      "5. Exit\n"
     ]
    },
    {
     "name": "stdin",
     "output_type": "stream",
     "text": [
      "Enter choice (1-5):  2\n"
     ]
    },
    {
     "name": "stdout",
     "output_type": "stream",
     "text": [
      "Total Vehicles: 1\n",
      "Total Cash Collected: 500 rubles\n",
      "\n",
      "TollBooth Menu:\n",
      "1. Bike/Two-Wheeler/Scooter (Free)\n",
      "2. Car (500 rubles)\n",
      "3. Truck/Bus (1200 rubles)\n",
      "4. Heavy-duty equipment (1500 rubles)\n",
      "5. Exit\n"
     ]
    },
    {
     "name": "stdin",
     "output_type": "stream",
     "text": [
      "Enter choice (1-5):  2\n"
     ]
    },
    {
     "name": "stdout",
     "output_type": "stream",
     "text": [
      "Total Vehicles: 2\n",
      "Total Cash Collected: 1000 rubles\n",
      "\n",
      "TollBooth Menu:\n",
      "1. Bike/Two-Wheeler/Scooter (Free)\n",
      "2. Car (500 rubles)\n",
      "3. Truck/Bus (1200 rubles)\n",
      "4. Heavy-duty equipment (1500 rubles)\n",
      "5. Exit\n"
     ]
    },
    {
     "name": "stdin",
     "output_type": "stream",
     "text": [
      "Enter choice (1-5):  4\n"
     ]
    },
    {
     "name": "stdout",
     "output_type": "stream",
     "text": [
      "Total Vehicles: 3\n",
      "Total Cash Collected: 2500 rubles\n",
      "\n",
      "TollBooth Menu:\n",
      "1. Bike/Two-Wheeler/Scooter (Free)\n",
      "2. Car (500 rubles)\n",
      "3. Truck/Bus (1200 rubles)\n",
      "4. Heavy-duty equipment (1500 rubles)\n",
      "5. Exit\n"
     ]
    },
    {
     "name": "stdin",
     "output_type": "stream",
     "text": [
      "Enter choice (1-5):  4\n"
     ]
    },
    {
     "name": "stdout",
     "output_type": "stream",
     "text": [
      "Total Vehicles: 4\n",
      "Total Cash Collected: 4000 rubles\n",
      "\n",
      "TollBooth Menu:\n",
      "1. Bike/Two-Wheeler/Scooter (Free)\n",
      "2. Car (500 rubles)\n",
      "3. Truck/Bus (1200 rubles)\n",
      "4. Heavy-duty equipment (1500 rubles)\n",
      "5. Exit\n"
     ]
    },
    {
     "name": "stdin",
     "output_type": "stream",
     "text": [
      "Enter choice (1-5):  4\n"
     ]
    },
    {
     "name": "stdout",
     "output_type": "stream",
     "text": [
      "Total Vehicles: 5\n",
      "Total Cash Collected: 5500 rubles\n",
      "\n",
      "TollBooth Menu:\n",
      "1. Bike/Two-Wheeler/Scooter (Free)\n",
      "2. Car (500 rubles)\n",
      "3. Truck/Bus (1200 rubles)\n",
      "4. Heavy-duty equipment (1500 rubles)\n",
      "5. Exit\n"
     ]
    },
    {
     "name": "stdin",
     "output_type": "stream",
     "text": [
      "Enter choice (1-5):  1\n"
     ]
    },
    {
     "name": "stdout",
     "output_type": "stream",
     "text": [
      "Total Vehicles: 6\n",
      "Total Cash Collected: 5500 rubles\n",
      "\n",
      "TollBooth Menu:\n",
      "1. Bike/Two-Wheeler/Scooter (Free)\n",
      "2. Car (500 rubles)\n",
      "3. Truck/Bus (1200 rubles)\n",
      "4. Heavy-duty equipment (1500 rubles)\n",
      "5. Exit\n"
     ]
    },
    {
     "name": "stdin",
     "output_type": "stream",
     "text": [
      "Enter choice (1-5):  1\n"
     ]
    },
    {
     "name": "stdout",
     "output_type": "stream",
     "text": [
      "Total Vehicles: 7\n",
      "Total Cash Collected: 5500 rubles\n",
      "\n",
      "TollBooth Menu:\n",
      "1. Bike/Two-Wheeler/Scooter (Free)\n",
      "2. Car (500 rubles)\n",
      "3. Truck/Bus (1200 rubles)\n",
      "4. Heavy-duty equipment (1500 rubles)\n",
      "5. Exit\n"
     ]
    },
    {
     "name": "stdin",
     "output_type": "stream",
     "text": [
      "Enter choice (1-5):  1\n"
     ]
    },
    {
     "name": "stdout",
     "output_type": "stream",
     "text": [
      "Total Vehicles: 8\n",
      "Total Cash Collected: 5500 rubles\n",
      "\n",
      "TollBooth Menu:\n",
      "1. Bike/Two-Wheeler/Scooter (Free)\n",
      "2. Car (500 rubles)\n",
      "3. Truck/Bus (1200 rubles)\n",
      "4. Heavy-duty equipment (1500 rubles)\n",
      "5. Exit\n"
     ]
    },
    {
     "name": "stdin",
     "output_type": "stream",
     "text": [
      "Enter choice (1-5):  1\n"
     ]
    },
    {
     "name": "stdout",
     "output_type": "stream",
     "text": [
      "Total Vehicles: 9\n",
      "Total Cash Collected: 5500 rubles\n",
      "\n",
      "TollBooth Menu:\n",
      "1. Bike/Two-Wheeler/Scooter (Free)\n",
      "2. Car (500 rubles)\n",
      "3. Truck/Bus (1200 rubles)\n",
      "4. Heavy-duty equipment (1500 rubles)\n",
      "5. Exit\n"
     ]
    },
    {
     "name": "stdin",
     "output_type": "stream",
     "text": [
      "Enter choice (1-5):  1\n"
     ]
    },
    {
     "name": "stdout",
     "output_type": "stream",
     "text": [
      "Total Vehicles: 10\n",
      "Total Cash Collected: 5500 rubles\n",
      "\n",
      "TollBooth Menu:\n",
      "1. Bike/Two-Wheeler/Scooter (Free)\n",
      "2. Car (500 rubles)\n",
      "3. Truck/Bus (1200 rubles)\n",
      "4. Heavy-duty equipment (1500 rubles)\n",
      "5. Exit\n"
     ]
    },
    {
     "name": "stdin",
     "output_type": "stream",
     "text": [
      "Enter choice (1-5):  1\n"
     ]
    },
    {
     "name": "stdout",
     "output_type": "stream",
     "text": [
      "Total Vehicles: 11\n",
      "Total Cash Collected: 5500 rubles\n",
      "\n",
      "TollBooth Menu:\n",
      "1. Bike/Two-Wheeler/Scooter (Free)\n",
      "2. Car (500 rubles)\n",
      "3. Truck/Bus (1200 rubles)\n",
      "4. Heavy-duty equipment (1500 rubles)\n",
      "5. Exit\n"
     ]
    },
    {
     "name": "stdin",
     "output_type": "stream",
     "text": [
      "Enter choice (1-5):  1\n"
     ]
    },
    {
     "name": "stdout",
     "output_type": "stream",
     "text": [
      "Total Vehicles: 12\n",
      "Total Cash Collected: 5500 rubles\n",
      "\n",
      "TollBooth Menu:\n",
      "1. Bike/Two-Wheeler/Scooter (Free)\n",
      "2. Car (500 rubles)\n",
      "3. Truck/Bus (1200 rubles)\n",
      "4. Heavy-duty equipment (1500 rubles)\n",
      "5. Exit\n"
     ]
    },
    {
     "name": "stdin",
     "output_type": "stream",
     "text": [
      "Enter choice (1-5):  1\n"
     ]
    },
    {
     "name": "stdout",
     "output_type": "stream",
     "text": [
      "Total Vehicles: 13\n",
      "Total Cash Collected: 5500 rubles\n",
      "\n",
      "TollBooth Menu:\n",
      "1. Bike/Two-Wheeler/Scooter (Free)\n",
      "2. Car (500 rubles)\n",
      "3. Truck/Bus (1200 rubles)\n",
      "4. Heavy-duty equipment (1500 rubles)\n",
      "5. Exit\n"
     ]
    },
    {
     "name": "stdin",
     "output_type": "stream",
     "text": [
      "Enter choice (1-5):  1\n"
     ]
    },
    {
     "name": "stdout",
     "output_type": "stream",
     "text": [
      "Total Vehicles: 14\n",
      "Total Cash Collected: 5500 rubles\n",
      "\n",
      "TollBooth Menu:\n",
      "1. Bike/Two-Wheeler/Scooter (Free)\n",
      "2. Car (500 rubles)\n",
      "3. Truck/Bus (1200 rubles)\n",
      "4. Heavy-duty equipment (1500 rubles)\n",
      "5. Exit\n"
     ]
    },
    {
     "name": "stdin",
     "output_type": "stream",
     "text": [
      "Enter choice (1-5):  1\n"
     ]
    },
    {
     "name": "stdout",
     "output_type": "stream",
     "text": [
      "Total Vehicles: 15\n",
      "Total Cash Collected: 5500 rubles\n",
      "\n",
      "TollBooth Menu:\n",
      "1. Bike/Two-Wheeler/Scooter (Free)\n",
      "2. Car (500 rubles)\n",
      "3. Truck/Bus (1200 rubles)\n",
      "4. Heavy-duty equipment (1500 rubles)\n",
      "5. Exit\n"
     ]
    },
    {
     "name": "stdin",
     "output_type": "stream",
     "text": [
      "Enter choice (1-5):  1\n"
     ]
    },
    {
     "name": "stdout",
     "output_type": "stream",
     "text": [
      "Total Vehicles: 16\n",
      "Total Cash Collected: 5500 rubles\n",
      "\n",
      "TollBooth Menu:\n",
      "1. Bike/Two-Wheeler/Scooter (Free)\n",
      "2. Car (500 rubles)\n",
      "3. Truck/Bus (1200 rubles)\n",
      "4. Heavy-duty equipment (1500 rubles)\n",
      "5. Exit\n"
     ]
    },
    {
     "name": "stdin",
     "output_type": "stream",
     "text": [
      "Enter choice (1-5):  3\n"
     ]
    },
    {
     "name": "stdout",
     "output_type": "stream",
     "text": [
      "Total Vehicles: 17\n",
      "Total Cash Collected: 6700 rubles\n",
      "\n",
      "TollBooth Menu:\n",
      "1. Bike/Two-Wheeler/Scooter (Free)\n",
      "2. Car (500 rubles)\n",
      "3. Truck/Bus (1200 rubles)\n",
      "4. Heavy-duty equipment (1500 rubles)\n",
      "5. Exit\n"
     ]
    },
    {
     "name": "stdin",
     "output_type": "stream",
     "text": [
      "Enter choice (1-5):  5\n"
     ]
    },
    {
     "name": "stdout",
     "output_type": "stream",
     "text": [
      "Final Statistics:\n",
      "Total Vehicles: 17\n",
      "Total Cash Collected: 6700 rubles\n"
     ]
    }
   ],
   "source": [
    "class TollBooth:\n",
    "    def __init__(self):\n",
    "        self.total_vehicles = 0\n",
    "        self.total_cash = 0\n",
    "\n",
    "    def payVehicle(self, toll):\n",
    "        self.total_vehicles += 1\n",
    "        self.total_cash += toll\n",
    "\n",
    "    def noPayVehicle(self):\n",
    "        self.total_vehicles += 1\n",
    "\n",
    "    def display(self):\n",
    "        print(f\"Total Vehicles: {self.total_vehicles}\")\n",
    "        print(f\"Total Cash Collected: {self.total_cash} rubles\")\n",
    "\n",
    "tollbooth = TollBooth()\n",
    "while True:\n",
    "    print(\"\\nTollBooth Menu:\")\n",
    "    print(\"1. Bike/Two-Wheeler/Scooter (Free)\")\n",
    "    print(\"2. Car (500 rubles)\")\n",
    "    print(\"3. Truck/Bus (1200 rubles)\")\n",
    "    print(\"4. Heavy-duty equipment (1500 rubles)\")\n",
    "    print(\"5. Exit\")\n",
    "    choice = input(\"Enter choice (1-5): \")\n",
    "    \n",
    "    if choice == '1':\n",
    "        tollbooth.noPayVehicle()\n",
    "        tollbooth.display()\n",
    "    elif choice == '2':\n",
    "        tollbooth.payVehicle(500)\n",
    "        tollbooth.display()\n",
    "    elif choice == '3':\n",
    "        tollbooth.payVehicle(1200)\n",
    "        tollbooth.display()\n",
    "    elif choice == '4':\n",
    "        tollbooth.payVehicle(1500)\n",
    "        tollbooth.display()\n",
    "    elif choice == '5':\n",
    "        print(\"Final Statistics:\")\n",
    "        tollbooth.display()\n",
    "        break\n",
    "    else:\n",
    "        print(\"Invalid choice, please try again.\")\n",
    "\n",
    "      "
   ]
  },
  {
   "cell_type": "code",
   "execution_count": 11,
   "id": "20ebfc05-16a0-44fa-ac17-5cc9d443fb91",
   "metadata": {},
   "outputs": [],
   "source": [
    "presidents_full = [\"Michael Jackson\", \"Nelson Mandela\", \"Albert Einstein\", \"Mahatma Gandhi\", \"Yuri Gagarin\", \n",
    "        \"Marilyn Monroe\", \"Anne Frank\", \"Thomas Alva Edison\", \"Narendra Modi\", \"Neil Armstrong\", \n",
    "        \"J.K.Rowling\", \"Leo Tolstoy\", \"Henry Ford\", \"Pablo Picasso\", \"Steve Jobs\", \n",
    "        \"Abraham Lincoln\", \"Cristiano Ronaldo\", \"Magnus Carlsen\", \"Alexander Pushkin\", \"Donald Trump\", \n",
    "        \"Charlie Chaplin\", \"Leonardo Da Vinci\", \"Leonardo DiCaprio\", \"Jackie Chan\", \"Stephen Hawking\", \n",
    "        \"Osho Rajneesh\", \"John Cena\", \"Bernard Arnault\", \"Mark Twain\", \"Usain Bolt\", \n",
    "        \"Bruce Lee\", \"Jalāl al-Dīn Muḥammad Rumi\", \"Alex Ovechkin\", \"Elon Musk\", \"John F. Kennedy\", \n",
    "        \"James Stephen\", \"Richard Branson\", \"Michael Phelps\", \"Jeff Bezos\", \"Ken Jeong\", \"Swami Vivekananda\", \n",
    "        \"Bill Clinton\", \"Daniil Medvedev\", \"Mother Teresa\"]"
   ]
  },
  {
   "cell_type": "code",
   "execution_count": 12,
   "id": "feef43e7-1a4f-4cf1-a6a9-bda7d1f47969",
   "metadata": {},
   "outputs": [
    {
     "name": "stdout",
     "output_type": "stream",
     "text": [
      "['Jackson', 'Mandela', 'Einstein', 'Gandhi', 'Gagarin', 'Monroe', 'Frank', 'Edison', 'Modi', 'Armstrong', 'J.K.Rowling', 'Tolstoy', 'Ford', 'Picasso', 'Jobs', 'Lincoln', 'Ronaldo', 'Carlsen', 'Pushkin', 'Trump', 'Chaplin', 'Vinci', 'DiCaprio', 'Chan', 'Hawking', 'Rajneesh', 'Cena', 'Arnault', 'Twain', 'Bolt', 'Lee', 'Rumi', 'Ovechkin', 'Musk', 'Kennedy', 'Stephen', 'Branson', 'Phelps', 'Bezos', 'Jeong', 'Vivekananda', 'Clinton', 'Medvedev', 'Teresa']\n"
     ]
    }
   ],
   "source": [
    "last_names = [name.split()[-1] for name in presidents_full]\n",
    "print(last_names)"
   ]
  },
  {
   "cell_type": "code",
   "execution_count": 13,
   "id": "937b0874-bcd9-411a-a8c5-25b46a089797",
   "metadata": {},
   "outputs": [
    {
     "name": "stdout",
     "output_type": "stream",
     "text": [
      "['Michael Jackson', 'Mahatma Gandhi', 'Marilyn Monroe', 'Magnus Carlsen', 'Mark Twain', 'Michael Phelps', 'Mother Teresa']\n"
     ]
    }
   ],
   "source": [
    "m_names = [name for name in presidents_full if name.split()[0].startswith('M')]\n",
    "print(m_names)"
   ]
  },
  {
   "cell_type": "code",
   "execution_count": 14,
   "id": "e378acfc-0ce8-4a85-b8ea-d3e8cab20dab",
   "metadata": {},
   "outputs": [
    {
     "name": "stdout",
     "output_type": "stream",
     "text": [
      "12\n"
     ]
    }
   ],
   "source": [
    "# Total length of the strings in the list: [\"red\", \"green\", \"blue\"] => 12\n",
    "total = 0\n",
    "for word in [\"red\", \"green\", \"blue\"]:\n",
    "    total = total + len(word)\n",
    "print(total)"
   ]
  },
  {
   "cell_type": "code",
   "execution_count": 15,
   "id": "4a72eeed-2b61-475d-a234-d3fbcc96b355",
   "metadata": {},
   "outputs": [
    {
     "name": "stdout",
     "output_type": "stream",
     "text": [
      "[3, 5, 4]\n"
     ]
    }
   ],
   "source": [
    "# List of word lengths: [\"red\", \"green\", \"blue\"] => [3, 5, 4]\n",
    "lengths = []\n",
    "for word in [\"red\", \"green\", \"blue\"]:\n",
    "    lengths.append(len(word))\n",
    "print(lengths)"
   ]
  },
  {
   "cell_type": "code",
   "execution_count": 16,
   "id": "00dd1853-f08c-4e92-9faa-569ed9b9d767",
   "metadata": {},
   "outputs": [
    {
     "name": "stdout",
     "output_type": "stream",
     "text": [
      "redgreenblue\n"
     ]
    }
   ],
   "source": [
    "# Concatenate all words: [\"red\", \"green\", \"blue\"] => \"redgreenblue\"\n",
    "words = [\"red\", \"green\", \"blue\"]\n",
    "result = \"\"\n",
    "for word in words:\n",
    "    result += word\n",
    "print(result)"
   ]
  },
  {
   "cell_type": "code",
   "execution_count": null,
   "id": "fd7f2b1f-9a7f-4c60-b4e9-878587c25935",
   "metadata": {},
   "outputs": [],
   "source": []
  }
 ],
 "metadata": {
  "kernelspec": {
   "display_name": "Python 3 (ipykernel)",
   "language": "python",
   "name": "python3"
  },
  "language_info": {
   "codemirror_mode": {
    "name": "ipython",
    "version": 3
   },
   "file_extension": ".py",
   "mimetype": "text/x-python",
   "name": "python",
   "nbconvert_exporter": "python",
   "pygments_lexer": "ipython3",
   "version": "3.12.7"
  }
 },
 "nbformat": 4,
 "nbformat_minor": 5
}
