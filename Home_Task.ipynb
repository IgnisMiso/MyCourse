{
 "cells": [
  {
   "cell_type": "code",
   "execution_count": 2,
   "id": "370ed609-cfc4-42c7-a45e-9d6ca6addac3",
   "metadata": {},
   "outputs": [
    {
     "name": "stdout",
     "output_type": "stream",
     "text": [
      "Gabriel (P001) has a BMI of 37.33\n",
      "Niloofar (P002) has a BMI of 25.25\n",
      "Zeechan (P003) has a BMI of 22.58\n"
     ]
    }
   ],
   "source": [
    "participants = [\n",
    "    {\"name\": \"Gabriel\", \"serial\": \"P001\", \"weight\": 84, \"height\": 150},\n",
    "    {\"name\": \"Niloofar\", \"serial\": \"P002\", \"weight\": 100, \"height\": 199},\n",
    "    {\"name\": \"Zeechan\", \"serial\": \"P003\", \"weight\": 60, \"height\": 163}\n",
    "]\n",
    "\n",
    "for participant in participants:\n",
    "    height_meters = participant[\"height\"] / 100\n",
    "    bmi = round(participant[\"weight\"] / (height_meters ** 2), 2)\n",
    "    print(f\"{participant['name']} ({participant['serial']}) has a BMI of {bmi}\")"
   ]
  },
  {
   "cell_type": "code",
   "execution_count": 3,
   "id": "ee450842-fcab-42ea-9e4b-d98e51f3d16f",
   "metadata": {},
   "outputs": [
    {
     "name": "stdout",
     "output_type": "stream",
     "text": [
      "Test Score: 72.0%\n"
     ]
    }
   ],
   "source": [
    "correct_answers = 18\n",
    "total_questions = 25\n",
    "percentage = round(correct_answers / total_questions * 100, 1)\n",
    "print(f\"Test Score: {percentage}%\")"
   ]
  },
  {
   "cell_type": "code",
   "execution_count": 4,
   "id": "54f030c0-2353-4ca6-afd8-b3f6173a5d0b",
   "metadata": {},
   "outputs": [
    {
     "name": "stdout",
     "output_type": "stream",
     "text": [
      "Average Alpha Power: 24.5 µV²\n"
     ]
    }
   ],
   "source": [
    "alpha_left = 25.4\n",
    "alpha_right = 23.6\n",
    "average_alpha_power = round((alpha_left + alpha_right) / 2, 1)\n",
    "print(f\"Average Alpha Power: {average_alpha_power} µV²\")"
   ]
  },
  {
   "cell_type": "code",
   "execution_count": 5,
   "id": "672b724d-8f7d-4571-8c6e-2be97d843d64",
   "metadata": {},
   "outputs": [
    {
     "name": "stdout",
     "output_type": "stream",
     "text": [
      "Alpha to Beta Power Ratio: 1.48\n"
     ]
    }
   ],
   "source": [
    "alpha_power = 22.32\n",
    "beta_power = 15.1242\n",
    "ratio = round(alpha_power / beta_power, 2)\n",
    "print(f\"Alpha to Beta Power Ratio: {ratio}\")"
   ]
  },
  {
   "cell_type": "code",
   "execution_count": 6,
   "id": "7fa71f0a-0fe9-4621-88a7-1c46f65a59ee",
   "metadata": {},
   "outputs": [
    {
     "name": "stdout",
     "output_type": "stream",
     "text": [
      "Alpha Band Contribution: 28.9%\n"
     ]
    }
   ],
   "source": [
    "delta_power = 10.5\n",
    "theta_power = 15.3\n",
    "alpha_power = 20.7\n",
    "beta_power = 25.1\n",
    "total_power = delta_power + theta_power + alpha_power + beta_power\n",
    "alpha_contribution = round((alpha_power / total_power) * 100, 1)\n",
    "print(f\"Alpha Band Contribution: {alpha_contribution}%\")"
   ]
  },
  {
   "cell_type": "code",
   "execution_count": 7,
   "id": "7a20c662-af50-473f-90fa-47cf32df2b85",
   "metadata": {},
   "outputs": [
    {
     "name": "stdout",
     "output_type": "stream",
     "text": [
      "Total Calories Burned: 420\n"
     ]
    }
   ],
   "source": [
    "walk_calories = 8\n",
    "run_calories = 12\n",
    "walk_time = 30\n",
    "run_time = 15\n",
    "total_calories = walk_calories * walk_time + run_calories * run_time\n",
    "print(f\"Total Calories Burned: {total_calories}\")"
   ]
  },
  {
   "cell_type": "code",
   "execution_count": 9,
   "id": "34a66d4f-73fc-4eba-b405-31753eda54f3",
   "metadata": {},
   "outputs": [
    {
     "name": "stdin",
     "output_type": "stream",
     "text": [
      "Enter a positive integer N:  6\n"
     ]
    },
    {
     "name": "stdout",
     "output_type": "stream",
     "text": [
      "Sum: 323\n"
     ]
    }
   ],
   "source": [
    "N = int(input(\"Enter a positive integer N: \"))\n",
    "sum = 0\n",
    "for i in range(1, N + 1):\n",
    "    if i % 2 == 1:\n",
    "        sum += i ** 2\n",
    "    else:\n",
    "        sum += i ** 3\n",
    "print(f\"Sum: {sum}\")"
   ]
  },
  {
   "cell_type": "code",
   "execution_count": 10,
   "id": "d042e3b8-a890-4258-bcd8-bced079a52f5",
   "metadata": {},
   "outputs": [
    {
     "name": "stdin",
     "output_type": "stream",
     "text": [
      "Enter 'left' or 'right' for rotation direction:  left\n",
      "Enter number of elements to rotate:  3\n"
     ]
    },
    {
     "name": "stdout",
     "output_type": "stream",
     "text": [
      "[4, 5, 6, 7, 1, 2, 3]\n"
     ]
    }
   ],
   "source": [
    "list = [1, 2, 3, 4, 5, 6, 7]\n",
    "direction = input(\"Enter 'left' or 'right' for rotation direction: \")\n",
    "d = int(input(\"Enter number of elements to rotate: \"))\n",
    "n = len(list)\n",
    "\n",
    "if direction == \"left\":\n",
    "    list = list[d:] + list[:d]\n",
    "elif direction == \"right\":\n",
    "    list = list[-d:] + list[:-d]\n",
    "print(list)"
   ]
  },
  {
   "cell_type": "code",
   "execution_count": 11,
   "id": "56dcb157-652d-4a7c-a66d-7053dfa9a9a4",
   "metadata": {},
   "outputs": [
    {
     "name": "stdin",
     "output_type": "stream",
     "text": [
      "Row shift or column shift? ('row' or 'column'):  row\n",
      "Which direction? ('left', 'right' or 'top', 'down'):  top\n",
      "Index of the column or row? (integer index):  3\n",
      "How many elements need to be shifted? (integer number):  3\n"
     ]
    },
    {
     "name": "stdout",
     "output_type": "stream",
     "text": [
      "[1, 2, 3]\n",
      "[4, 5, 6]\n",
      "[7, 8, 9]\n"
     ]
    }
   ],
   "source": [
    "matrix = [\n",
    "    [1, 2, 3],\n",
    "    [4, 5, 6],\n",
    "    [7, 8, 9]\n",
    "]\n",
    "\n",
    "shift_type = input(\"Row shift or column shift? ('row' or 'column'): \")\n",
    "direction = input(\"Which direction? ('left', 'right' or 'top', 'down'): \")\n",
    "index = int(input(\"Index of the column or row? (integer index): \"))\n",
    "shift = int(input(\"How many elements need to be shifted? (integer number): \"))\n",
    "\n",
    "if shift_type == \"row\":\n",
    "    if direction == \"left\":\n",
    "        matrix[index] = matrix[index][shift:] + matrix[index][:shift]\n",
    "    elif direction == \"right\":\n",
    "        matrix[index] = matrix[index][-shift:] + matrix[index][:-shift]\n",
    "elif shift_type == \"column\":\n",
    "    if direction == \"top\":\n",
    "        for i in range(len(matrix)):\n",
    "            matrix[i][index] = matrix[(i - shift) % len(matrix)][index]\n",
    "    elif direction == \"down\":\n",
    "        for i in range(len(matrix)):\n",
    "            matrix[i][index] = matrix[(i + shift) % len(matrix)][index]\n",
    "\n",
    "for row in matrix:\n",
    "    print(row)"
   ]
  },
  {
   "cell_type": "code",
   "execution_count": null,
   "id": "40bc2b0b-c85c-4d7c-8296-9d30af4193eb",
   "metadata": {},
   "outputs": [],
   "source": []
  }
 ],
 "metadata": {
  "kernelspec": {
   "display_name": "Python 3 (ipykernel)",
   "language": "python",
   "name": "python3"
  },
  "language_info": {
   "codemirror_mode": {
    "name": "ipython",
    "version": 3
   },
   "file_extension": ".py",
   "mimetype": "text/x-python",
   "name": "python",
   "nbconvert_exporter": "python",
   "pygments_lexer": "ipython3",
   "version": "3.12.7"
  }
 },
 "nbformat": 4,
 "nbformat_minor": 5
}
