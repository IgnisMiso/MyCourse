{
 "cells": [
  {
   "cell_type": "code",
   "execution_count": 1,
   "id": "5e1816ec-35e3-496c-992a-4fb1c46153c4",
   "metadata": {},
   "outputs": [
    {
     "name": "stdout",
     "output_type": "stream",
     "text": [
      "Enter a piece of text (press Enter twice to finish):\n"
     ]
    },
    {
     "name": "stdin",
     "output_type": "stream",
     "text": [
      " Love is patient, love is kind. We live for love and we die for love. \n",
      " \n"
     ]
    },
    {
     "name": "stdout",
     "output_type": "stream",
     "text": [
      "\n",
      "Word Frequency Dictionary:\n",
      "and: 1\n",
      "die: 1\n",
      "for: 2\n",
      "is: 2\n",
      "kind: 1\n",
      "live: 1\n",
      "love: 4\n",
      "patient: 1\n",
      "we: 2\n",
      "\n",
      "Most frequent word: 'love' (appears 4 times)\n"
     ]
    }
   ],
   "source": [
    "print(\"Enter a piece of text (press Enter twice to finish):\")\n",
    "lines = []\n",
    "while True:\n",
    "    line = input()\n",
    "    if line == \"\":\n",
    "        break\n",
    "    lines.append(line)\n",
    "text = \" \".join(lines)\n",
    "\n",
    "if not text.strip():\n",
    "    print(\"No text provided.\")\n",
    "else:\n",
    "    text = text.lower()\n",
    "    words = ''.join(char if char.isalnum() or char.isspace() else ' ' for char in text).split()\n",
    "    freq_dict = {}\n",
    "    for word in words:\n",
    "        if word:\n",
    "            freq_dict[word] = freq_dict.get(word, 0) + 1\n",
    "    \n",
    "    print(\"\\nWord Frequency Dictionary:\")\n",
    "    for word, count in sorted(freq_dict.items()):\n",
    "        print(f\"{word}: {count}\")\n",
    "    \n",
    "    if freq_dict:\n",
    "        most_frequent = max(freq_dict, key=freq_dict.get)\n",
    "        print(f\"\\nMost frequent word: '{most_frequent}' (appears {freq_dict[most_frequent]} times)\")\n",
    "    else:\n",
    "        print(\"\\nNo words found in the text.\")"
   ]
  },
  {
   "cell_type": "code",
   "execution_count": 4,
   "id": "f5041254-14a5-4041-bc45-99e416d0bb46",
   "metadata": {},
   "outputs": [
    {
     "name": "stdout",
     "output_type": "stream",
     "text": [
      "Enter items to add to your shopping list (type 'done' or press Enter to finish):\n"
     ]
    },
    {
     "name": "stdin",
     "output_type": "stream",
     "text": [
      "Item:  Apple\n"
     ]
    },
    {
     "name": "stdout",
     "output_type": "stream",
     "text": [
      "apple added to your shopping list.\n"
     ]
    },
    {
     "name": "stdin",
     "output_type": "stream",
     "text": [
      "Item:  Sharwama\n"
     ]
    },
    {
     "name": "stdout",
     "output_type": "stream",
     "text": [
      "Sorry, sharwama is not available in the inventory.\n"
     ]
    },
    {
     "name": "stdin",
     "output_type": "stream",
     "text": [
      "Item:  Mango\n"
     ]
    },
    {
     "name": "stdout",
     "output_type": "stream",
     "text": [
      "mango added to your shopping list.\n"
     ]
    },
    {
     "name": "stdin",
     "output_type": "stream",
     "text": [
      "Item:  Cherry\n"
     ]
    },
    {
     "name": "stdout",
     "output_type": "stream",
     "text": [
      "cherry added to your shopping list.\n"
     ]
    },
    {
     "name": "stdin",
     "output_type": "stream",
     "text": [
      "Item:  Onion\n"
     ]
    },
    {
     "name": "stdout",
     "output_type": "stream",
     "text": [
      "onion added to your shopping list.\n"
     ]
    },
    {
     "name": "stdin",
     "output_type": "stream",
     "text": [
      "Item:  Condoms\n"
     ]
    },
    {
     "name": "stdout",
     "output_type": "stream",
     "text": [
      "Sorry, condoms is not available in the inventory.\n"
     ]
    },
    {
     "name": "stdin",
     "output_type": "stream",
     "text": [
      "Item:  Egwusi\n"
     ]
    },
    {
     "name": "stdout",
     "output_type": "stream",
     "text": [
      "Sorry, egwusi is not available in the inventory.\n"
     ]
    },
    {
     "name": "stdin",
     "output_type": "stream",
     "text": [
      "Item:  Ogbono\n"
     ]
    },
    {
     "name": "stdout",
     "output_type": "stream",
     "text": [
      "Sorry, ogbono is not available in the inventory.\n"
     ]
    },
    {
     "name": "stdin",
     "output_type": "stream",
     "text": [
      "Item:  Manka\n"
     ]
    },
    {
     "name": "stdout",
     "output_type": "stream",
     "text": [
      "Sorry, manka is not available in the inventory.\n"
     ]
    },
    {
     "name": "stdin",
     "output_type": "stream",
     "text": [
      "Item:  Chai\n"
     ]
    },
    {
     "name": "stdout",
     "output_type": "stream",
     "text": [
      "Sorry, chai is not available in the inventory.\n"
     ]
    },
    {
     "name": "stdin",
     "output_type": "stream",
     "text": [
      "Item:  Bread\n"
     ]
    },
    {
     "name": "stdout",
     "output_type": "stream",
     "text": [
      "bread added to your shopping list.\n"
     ]
    },
    {
     "name": "stdin",
     "output_type": "stream",
     "text": [
      "Item:  OIl\n"
     ]
    },
    {
     "name": "stdout",
     "output_type": "stream",
     "text": [
      "oil added to your shopping list.\n"
     ]
    },
    {
     "name": "stdin",
     "output_type": "stream",
     "text": [
      "Item:  CHIPS\n"
     ]
    },
    {
     "name": "stdout",
     "output_type": "stream",
     "text": [
      "chips added to your shopping list.\n"
     ]
    },
    {
     "name": "stdin",
     "output_type": "stream",
     "text": [
      "Item:  KiWi\n"
     ]
    },
    {
     "name": "stdout",
     "output_type": "stream",
     "text": [
      "kiwi added to your shopping list.\n"
     ]
    },
    {
     "name": "stdin",
     "output_type": "stream",
     "text": [
      "Item:  detergent\n"
     ]
    },
    {
     "name": "stdout",
     "output_type": "stream",
     "text": [
      "detergent added to your shopping list.\n"
     ]
    },
    {
     "name": "stdin",
     "output_type": "stream",
     "text": [
      "Item:  banana\n"
     ]
    },
    {
     "name": "stdout",
     "output_type": "stream",
     "text": [
      "banana added to your shopping list.\n"
     ]
    },
    {
     "name": "stdin",
     "output_type": "stream",
     "text": [
      "Item:   bell pepper\n"
     ]
    },
    {
     "name": "stdout",
     "output_type": "stream",
     "text": [
      "bell pepper added to your shopping list.\n"
     ]
    },
    {
     "name": "stdin",
     "output_type": "stream",
     "text": [
      "Item:  brocoli\n"
     ]
    },
    {
     "name": "stdout",
     "output_type": "stream",
     "text": [
      "Sorry, brocoli is not available in the inventory.\n"
     ]
    },
    {
     "name": "stdin",
     "output_type": "stream",
     "text": [
      "Item:  garlic\n"
     ]
    },
    {
     "name": "stdout",
     "output_type": "stream",
     "text": [
      "garlic added to your shopping list.\n"
     ]
    },
    {
     "name": "stdin",
     "output_type": "stream",
     "text": [
      "Item:  milk\n"
     ]
    },
    {
     "name": "stdout",
     "output_type": "stream",
     "text": [
      "milk added to your shopping list.\n"
     ]
    },
    {
     "name": "stdin",
     "output_type": "stream",
     "text": [
      "Item:  rice\n"
     ]
    },
    {
     "name": "stdout",
     "output_type": "stream",
     "text": [
      "rice added to your shopping list.\n"
     ]
    },
    {
     "name": "stdin",
     "output_type": "stream",
     "text": [
      "Item:  tea\n"
     ]
    },
    {
     "name": "stdout",
     "output_type": "stream",
     "text": [
      "tea added to your shopping list.\n"
     ]
    },
    {
     "name": "stdin",
     "output_type": "stream",
     "text": [
      "Item:  choco.late\n"
     ]
    },
    {
     "name": "stdout",
     "output_type": "stream",
     "text": [
      "Sorry, choco.late is not available in the inventory.\n"
     ]
    },
    {
     "name": "stdin",
     "output_type": "stream",
     "text": [
      "Item:  chocolate\n"
     ]
    },
    {
     "name": "stdout",
     "output_type": "stream",
     "text": [
      "chocolate added to your shopping list.\n"
     ]
    },
    {
     "name": "stdin",
     "output_type": "stream",
     "text": [
      "Item:  cleaner\n"
     ]
    },
    {
     "name": "stdout",
     "output_type": "stream",
     "text": [
      "cleaner added to your shopping list.\n"
     ]
    },
    {
     "name": "stdin",
     "output_type": "stream",
     "text": [
      "Item:  orange\n"
     ]
    },
    {
     "name": "stdout",
     "output_type": "stream",
     "text": [
      "orange added to your shopping list.\n"
     ]
    },
    {
     "name": "stdin",
     "output_type": "stream",
     "text": [
      "Item:  papaya\n"
     ]
    },
    {
     "name": "stdout",
     "output_type": "stream",
     "text": [
      "papaya added to your shopping list.\n"
     ]
    },
    {
     "name": "stdin",
     "output_type": "stream",
     "text": [
      "Item:  carrot\n"
     ]
    },
    {
     "name": "stdout",
     "output_type": "stream",
     "text": [
      "carrot added to your shopping list.\n"
     ]
    },
    {
     "name": "stdin",
     "output_type": "stream",
     "text": [
      "Item:  cabbage\n"
     ]
    },
    {
     "name": "stdout",
     "output_type": "stream",
     "text": [
      "cabbage added to your shopping list.\n"
     ]
    },
    {
     "name": "stdin",
     "output_type": "stream",
     "text": [
      "Item:  cheese\n"
     ]
    },
    {
     "name": "stdout",
     "output_type": "stream",
     "text": [
      "cheese added to your shopping list.\n"
     ]
    },
    {
     "name": "stdin",
     "output_type": "stream",
     "text": [
      "Item:  flour\n"
     ]
    },
    {
     "name": "stdout",
     "output_type": "stream",
     "text": [
      "flour added to your shopping list.\n"
     ]
    },
    {
     "name": "stdin",
     "output_type": "stream",
     "text": [
      "Item:  juice\n"
     ]
    },
    {
     "name": "stdout",
     "output_type": "stream",
     "text": [
      "juice added to your shopping list.\n"
     ]
    },
    {
     "name": "stdin",
     "output_type": "stream",
     "text": [
      "Item:  candy\n"
     ]
    },
    {
     "name": "stdout",
     "output_type": "stream",
     "text": [
      "candy added to your shopping list.\n"
     ]
    },
    {
     "name": "stdin",
     "output_type": "stream",
     "text": [
      "Item:  toilet paper\n"
     ]
    },
    {
     "name": "stdout",
     "output_type": "stream",
     "text": [
      "toilet paper added to your shopping list.\n"
     ]
    },
    {
     "name": "stdin",
     "output_type": "stream",
     "text": [
      "Item:  grapes\n"
     ]
    },
    {
     "name": "stdout",
     "output_type": "stream",
     "text": [
      "grapes added to your shopping list.\n"
     ]
    },
    {
     "name": "stdin",
     "output_type": "stream",
     "text": [
      "Item:  strawberry\n"
     ]
    },
    {
     "name": "stdout",
     "output_type": "stream",
     "text": [
      "strawberry added to your shopping list.\n"
     ]
    },
    {
     "name": "stdin",
     "output_type": "stream",
     "text": [
      "Item:  spinach\n"
     ]
    },
    {
     "name": "stdout",
     "output_type": "stream",
     "text": [
      "spinach added to your shopping list.\n"
     ]
    },
    {
     "name": "stdin",
     "output_type": "stream",
     "text": [
      "Item:  lettuce\n"
     ]
    },
    {
     "name": "stdout",
     "output_type": "stream",
     "text": [
      "lettuce added to your shopping list.\n"
     ]
    },
    {
     "name": "stdin",
     "output_type": "stream",
     "text": [
      "Item:  yoghurt\n"
     ]
    },
    {
     "name": "stdout",
     "output_type": "stream",
     "text": [
      "Sorry, yoghurt is not available in the inventory.\n"
     ]
    },
    {
     "name": "stdin",
     "output_type": "stream",
     "text": [
      "Item:  yoghurt\n"
     ]
    },
    {
     "name": "stdout",
     "output_type": "stream",
     "text": [
      "Sorry, yoghurt is not available in the inventory.\n"
     ]
    },
    {
     "name": "stdin",
     "output_type": "stream",
     "text": [
      "Item:  sugar\n"
     ]
    },
    {
     "name": "stdout",
     "output_type": "stream",
     "text": [
      "sugar added to your shopping list.\n"
     ]
    },
    {
     "name": "stdin",
     "output_type": "stream",
     "text": [
      "Item:  soda\n"
     ]
    },
    {
     "name": "stdout",
     "output_type": "stream",
     "text": [
      "soda added to your shopping list.\n"
     ]
    },
    {
     "name": "stdin",
     "output_type": "stream",
     "text": [
      "Item:  toothpaste\n"
     ]
    },
    {
     "name": "stdout",
     "output_type": "stream",
     "text": [
      "toothpaste added to your shopping list.\n"
     ]
    },
    {
     "name": "stdin",
     "output_type": "stream",
     "text": [
      "Item:  dish soap\n"
     ]
    },
    {
     "name": "stdout",
     "output_type": "stream",
     "text": [
      "dish soap added to your shopping list.\n"
     ]
    },
    {
     "name": "stdin",
     "output_type": "stream",
     "text": [
      "Item:  watermelon\n"
     ]
    },
    {
     "name": "stdout",
     "output_type": "stream",
     "text": [
      "watermelon added to your shopping list.\n"
     ]
    },
    {
     "name": "stdin",
     "output_type": "stream",
     "text": [
      "Item:  blueberry\n"
     ]
    },
    {
     "name": "stdout",
     "output_type": "stream",
     "text": [
      "blueberry added to your shopping list.\n"
     ]
    },
    {
     "name": "stdin",
     "output_type": "stream",
     "text": [
      "Item:  tomato\n"
     ]
    },
    {
     "name": "stdout",
     "output_type": "stream",
     "text": [
      "tomato added to your shopping list.\n"
     ]
    },
    {
     "name": "stdin",
     "output_type": "stream",
     "text": [
      "Item:  cauliflower\n"
     ]
    },
    {
     "name": "stdout",
     "output_type": "stream",
     "text": [
      "cauliflower added to your shopping list.\n"
     ]
    },
    {
     "name": "stdin",
     "output_type": "stream",
     "text": [
      "Item:  butter\n"
     ]
    },
    {
     "name": "stdout",
     "output_type": "stream",
     "text": [
      "butter added to your shopping list.\n"
     ]
    },
    {
     "name": "stdin",
     "output_type": "stream",
     "text": [
      "Item:  salt\n"
     ]
    },
    {
     "name": "stdout",
     "output_type": "stream",
     "text": [
      "salt added to your shopping list.\n"
     ]
    },
    {
     "name": "stdin",
     "output_type": "stream",
     "text": [
      "Item:  water  bottle\n"
     ]
    },
    {
     "name": "stdout",
     "output_type": "stream",
     "text": [
      "Sorry, water  bottle is not available in the inventory.\n"
     ]
    },
    {
     "name": "stdin",
     "output_type": "stream",
     "text": [
      "Item:  soap\n"
     ]
    },
    {
     "name": "stdout",
     "output_type": "stream",
     "text": [
      "soap added to your shopping list.\n"
     ]
    },
    {
     "name": "stdin",
     "output_type": "stream",
     "text": [
      "Item:  pineapple\n"
     ]
    },
    {
     "name": "stdout",
     "output_type": "stream",
     "text": [
      "pineapple added to your shopping list.\n"
     ]
    },
    {
     "name": "stdin",
     "output_type": "stream",
     "text": [
      "Item:  peach\n"
     ]
    },
    {
     "name": "stdout",
     "output_type": "stream",
     "text": [
      "peach added to your shopping list.\n"
     ]
    },
    {
     "name": "stdin",
     "output_type": "stream",
     "text": [
      "Item:  potato\n"
     ]
    },
    {
     "name": "stdout",
     "output_type": "stream",
     "text": [
      "potato added to your shopping list.\n"
     ]
    },
    {
     "name": "stdin",
     "output_type": "stream",
     "text": [
      "Item:  cucumber\n"
     ]
    },
    {
     "name": "stdout",
     "output_type": "stream",
     "text": [
      "cucumber added to your shopping list.\n"
     ]
    },
    {
     "name": "stdin",
     "output_type": "stream",
     "text": [
      "Item:  eggs\n"
     ]
    },
    {
     "name": "stdout",
     "output_type": "stream",
     "text": [
      "eggs added to your shopping list.\n"
     ]
    },
    {
     "name": "stdin",
     "output_type": "stream",
     "text": [
      "Item:  cereal \n"
     ]
    },
    {
     "name": "stdout",
     "output_type": "stream",
     "text": [
      "cereal added to your shopping list.\n"
     ]
    },
    {
     "name": "stdin",
     "output_type": "stream",
     "text": [
      "Item:  cookies\n"
     ]
    },
    {
     "name": "stdout",
     "output_type": "stream",
     "text": [
      "cookies added to your shopping list.\n"
     ]
    },
    {
     "name": "stdin",
     "output_type": "stream",
     "text": [
      "Item:  plastic wrap\n"
     ]
    },
    {
     "name": "stdout",
     "output_type": "stream",
     "text": [
      "plastic wrap added to your shopping list.\n"
     ]
    },
    {
     "name": "stdin",
     "output_type": "stream",
     "text": [
      "Item:  cigarettes\n"
     ]
    },
    {
     "name": "stdout",
     "output_type": "stream",
     "text": [
      "Sorry, cigarettes is not available in the inventory.\n"
     ]
    },
    {
     "name": "stdin",
     "output_type": "stream",
     "text": [
      "Item:  wine\n"
     ]
    },
    {
     "name": "stdout",
     "output_type": "stream",
     "text": [
      "Sorry, wine is not available in the inventory.\n"
     ]
    },
    {
     "name": "stdin",
     "output_type": "stream",
     "text": [
      "Item:  vape\n"
     ]
    },
    {
     "name": "stdout",
     "output_type": "stream",
     "text": [
      "Sorry, vape is not available in the inventory.\n"
     ]
    },
    {
     "name": "stdin",
     "output_type": "stream",
     "text": [
      "Item:  singlet\n"
     ]
    },
    {
     "name": "stdout",
     "output_type": "stream",
     "text": [
      "Sorry, singlet is not available in the inventory.\n"
     ]
    },
    {
     "name": "stdin",
     "output_type": "stream",
     "text": [
      "Item:  boxers\n"
     ]
    },
    {
     "name": "stdout",
     "output_type": "stream",
     "text": [
      "Sorry, boxers is not available in the inventory.\n"
     ]
    },
    {
     "name": "stdin",
     "output_type": "stream",
     "text": [
      "Item:  comb\n"
     ]
    },
    {
     "name": "stdout",
     "output_type": "stream",
     "text": [
      "Sorry, comb is not available in the inventory.\n"
     ]
    },
    {
     "name": "stdin",
     "output_type": "stream",
     "text": [
      "Item:  belt\n"
     ]
    },
    {
     "name": "stdout",
     "output_type": "stream",
     "text": [
      "Sorry, belt is not available in the inventory.\n"
     ]
    },
    {
     "name": "stdin",
     "output_type": "stream",
     "text": [
      "Item:  shoes\n"
     ]
    },
    {
     "name": "stdout",
     "output_type": "stream",
     "text": [
      "Sorry, shoes is not available in the inventory.\n"
     ]
    },
    {
     "name": "stdin",
     "output_type": "stream",
     "text": [
      "Item:  books\n"
     ]
    },
    {
     "name": "stdout",
     "output_type": "stream",
     "text": [
      "Sorry, books is not available in the inventory.\n"
     ]
    },
    {
     "name": "stdin",
     "output_type": "stream",
     "text": [
      "Item:  done\n"
     ]
    },
    {
     "name": "stdout",
     "output_type": "stream",
     "text": [
      "\n",
      "Your sorted shopping list:\n",
      "apple\n",
      "banana\n",
      "bell pepper\n",
      "blueberry\n",
      "bread\n",
      "butter\n",
      "cabbage\n",
      "candy\n",
      "carrot\n",
      "cauliflower\n",
      "cereal\n",
      "cheese\n",
      "cherry\n",
      "chips\n",
      "chocolate\n",
      "cleaner\n",
      "cookies\n",
      "cucumber\n",
      "detergent\n",
      "dish soap\n",
      "eggs\n",
      "flour\n",
      "garlic\n",
      "grapes\n",
      "juice\n",
      "kiwi\n",
      "lettuce\n",
      "mango\n",
      "milk\n",
      "oil\n",
      "onion\n",
      "orange\n",
      "papaya\n",
      "peach\n",
      "pineapple\n",
      "plastic wrap\n",
      "potato\n",
      "rice\n",
      "salt\n",
      "soap\n",
      "soda\n",
      "spinach\n",
      "strawberry\n",
      "sugar\n",
      "tea\n",
      "toilet paper\n",
      "tomato\n",
      "toothpaste\n",
      "watermelon\n"
     ]
    }
   ],
   "source": [
    "inventory = {\n",
    "    'apple': 30, 'banana': 50, 'orange': 40, 'grapes': 25, 'watermelon': 10, 'pineapple': 15,\n",
    "    'mango': 20, 'kiwi': 18, 'papaya': 12, 'strawberry': 22, 'blueberry': 14, 'peach': 16,\n",
    "    'cherry': 9, 'broccoli': 35, 'carrot': 60, 'spinach': 45, 'tomato': 80, 'potato': 100,\n",
    "    'onion': 90, 'garlic': 50, 'cabbage': 30, 'lettuce': 28, 'cauliflower': 22, 'cucumber': 40,\n",
    "    'bell pepper': 34, 'milk': 55, 'cheese': 20, 'yogurt': 25, 'butter': 18, 'eggs': 70,\n",
    "    'bread': 65, 'rice': 75, 'pasta': 40, 'flour': 60, 'sugar': 50, 'salt': 45, 'cereal': 38,\n",
    "    'oil': 30, 'tea': 40, 'coffee': 35, 'juice': 42, 'soda': 50, 'water bottle': 100, 'cookies': 48,\n",
    "    'chips': 55, 'chocolate': 33, 'candy': 27, 'toothpaste': 25, 'soap': 30, 'shampoo': 20, 'tissue': 40,\n",
    "    'detergent': 35, 'cleaner': 22, 'toilet paper': 60, 'dish soap': 18, 'aluminum foil': 15, 'plastic wrap': 17\n",
    "}\n",
    "\n",
    "shopping_list = []\n",
    "print(\"Enter items to add to your shopping list (type 'done' or press Enter to finish):\")\n",
    "while True:\n",
    "    item = input(\"Item: \").lower().strip()\n",
    "    if item == \"done\" or item == \"\":\n",
    "        break\n",
    "    if item in inventory:\n",
    "        shopping_list.append(item)\n",
    "        print(f\"{item} added to your shopping list.\")\n",
    "    else:\n",
    "        print(f\"Sorry, {item} is not available in the inventory.\")\n",
    "\n",
    "if shopping_list:\n",
    "    shopping_list.sort()\n",
    "    print(\"\\nYour sorted shopping list:\")\n",
    "    for item in shopping_list:\n",
    "        print(item)\n",
    "else:\n",
    "    print(\"\\nYour shopping list is empty.\")"
   ]
  },
  {
   "cell_type": "code",
   "execution_count": 5,
   "id": "988616da-080f-4b1b-bb95-66bf2294fa9e",
   "metadata": {},
   "outputs": [
    {
     "name": "stdout",
     "output_type": "stream",
     "text": [
      "Exams in alphabetical order (A -> Z):\n",
      "Chinese: 21-06-2022\n",
      "Economics: 18-06-2022\n",
      "English: 25-06-2022\n",
      "Japanese: 21-06-2022\n",
      "Korean: 21-06-2022\n",
      "Programming in Python: 27-06-2022\n",
      "Regional Studies: 28-07-2022\n",
      "\n",
      "Exams in reverse alphabetical order (Z -> A):\n",
      "Regional Studies: 28-07-2022\n",
      "Programming in Python: 27-06-2022\n",
      "Korean: 21-06-2022\n",
      "Japanese: 21-06-2022\n",
      "English: 25-06-2022\n",
      "Economics: 18-06-2022\n",
      "Chinese: 21-06-2022\n",
      "\n",
      "Exams in chronological order (earliest to latest):\n",
      "Economics: 18-06-2022\n",
      "Japanese: 21-06-2022\n",
      "Korean: 21-06-2022\n",
      "Chinese: 21-06-2022\n",
      "English: 25-06-2022\n",
      "Programming in Python: 27-06-2022\n",
      "Regional Studies: 28-07-2022\n",
      "\n",
      "Exams in reverse chronological order (latest to earliest):\n",
      "Regional Studies: 28-07-2022\n",
      "Programming in Python: 27-06-2022\n",
      "English: 25-06-2022\n",
      "Japanese: 21-06-2022\n",
      "Korean: 21-06-2022\n",
      "Chinese: 21-06-2022\n",
      "Economics: 18-06-2022\n",
      "\n",
      "Earliest exam: Economics on 18-06-2022\n",
      "Latest exam: Regional Studies on 28-07-2022\n",
      "\n",
      "Exams grouped by date:\n",
      "18-06-2022\n",
      "Economics\n",
      "21-06-2022\n",
      "Chinese\n",
      "Japanese\n",
      "Korean\n",
      "25-06-2022\n",
      "English\n",
      "27-06-2022\n",
      "Programming in Python\n",
      "28-07-2022\n",
      "Regional Studies\n"
     ]
    }
   ],
   "source": [
    "from datetime import datetime\n",
    "\n",
    "exam_dates = {\n",
    "    'Economics': '18-06-2022',\n",
    "    'Japanese': '21-06-2022',\n",
    "    'Korean': '21-06-2022',\n",
    "    'Chinese': '21-06-2022',\n",
    "    'English': '25-06-2022',\n",
    "    'Programming in Python': '27-06-2022',\n",
    "    'Regional Studies': '28-07-2022'\n",
    "}\n",
    "\n",
    "print(\"Exams in alphabetical order (A -> Z):\")\n",
    "for course in sorted(exam_dates.keys()):\n",
    "    print(f\"{course}: {exam_dates[course]}\")\n",
    "\n",
    "print(\"\\nExams in reverse alphabetical order (Z -> A):\")\n",
    "for course in sorted(exam_dates.keys(), reverse=True):\n",
    "    print(f\"{course}: {exam_dates[course]}\")\n",
    "\n",
    "date_format = \"%d-%m-%Y\"\n",
    "exam_by_date = [(course, datetime.strptime(date, date_format)) for course, date in exam_dates.items()]\n",
    "\n",
    "print(\"\\nExams in chronological order (earliest to latest):\")\n",
    "for course, date in sorted(exam_by_date, key=lambda x: x[1]):\n",
    "    print(f\"{course}: {date.strftime(date_format)}\")\n",
    "\n",
    "print(\"\\nExams in reverse chronological order (latest to earliest):\")\n",
    "for course, date in sorted(exam_by_date, key=lambda x: x[1], reverse=True):\n",
    "    print(f\"{course}: {date.strftime(date_format)}\")\n",
    "\n",
    "earliest = min(exam_by_date, key=lambda x: x[1])\n",
    "print(f\"\\nEarliest exam: {earliest[0]} on {earliest[1].strftime(date_format)}\")\n",
    "\n",
    "latest = max(exam_by_date, key=lambda x: x[1])\n",
    "print(f\"Latest exam: {latest[0]} on {latest[1].strftime(date_format)}\")\n",
    "\n",
    "print(\"\\nExams grouped by date:\")\n",
    "dates_to_exams = {}\n",
    "for course, date in exam_by_date:\n",
    "    date_str = date.strftime(date_format)\n",
    "    if date_str not in dates_to_exams:\n",
    "        dates_to_exams[date_str] = []\n",
    "    dates_to_exams[date_str].append(course)\n",
    "\n",
    "for date in sorted(dates_to_exams.keys(), key=lambda x: datetime.strptime(x, date_format)):\n",
    "    print(date)\n",
    "    for course in sorted(dates_to_exams[date]):\n",
    "        print(course)"
   ]
  },
  {
   "cell_type": "code",
   "execution_count": 12,
   "id": "633dd03f-39d8-420c-a338-3059e907a12d",
   "metadata": {},
   "outputs": [],
   "source": [
    "def isValidDate(year, month, day):\n",
    "    if month < 1 or month > 12:\n",
    "        return False\n",
    "    \n",
    "    if day < 1:\n",
    "        return False\n",
    "    \n",
    "    if month in [4, 6, 9, 11]:\n",
    "        max_days = 30\n",
    "    elif month == 2:\n",
    "        is_leap = (year % 4 == 0 and year % 100 != 0) or (year % 400 == 0)\n",
    "        max_days = 29 if is_leap else 28\n",
    "    else:\n",
    "        max_days = 31\n",
    "    \n",
    "    return day <= max_days\n",
    "    "
   ]
  },
  {
   "cell_type": "code",
   "execution_count": 13,
   "id": "ff4e0dc4-7b18-4778-b40c-9dcae38ffab6",
   "metadata": {},
   "outputs": [
    {
     "name": "stdout",
     "output_type": "stream",
     "text": [
      "True\n"
     ]
    }
   ],
   "source": [
    "print(isValidDate(1996, 7, 15)) "
   ]
  },
  {
   "cell_type": "code",
   "execution_count": 14,
   "id": "0826a997-5398-4ff6-9baa-0c65e6e00bc6",
   "metadata": {},
   "outputs": [
    {
     "name": "stdout",
     "output_type": "stream",
     "text": [
      "False\n"
     ]
    }
   ],
   "source": [
    "print(isValidDate(1880, 13, 13))"
   ]
  },
  {
   "cell_type": "code",
   "execution_count": 17,
   "id": "3b3d2c77-67dd-49ca-9a53-2e5b4a708f5e",
   "metadata": {},
   "outputs": [
    {
     "name": "stdout",
     "output_type": "stream",
     "text": [
      "True\n"
     ]
    }
   ],
   "source": [
    "print(isValidDate(3099, 1, 5))"
   ]
  },
  {
   "cell_type": "code",
   "execution_count": 16,
   "id": "051b087b-1570-4b9d-9155-cbf6c88401c1",
   "metadata": {},
   "outputs": [
    {
     "name": "stdout",
     "output_type": "stream",
     "text": [
      "True\n"
     ]
    }
   ],
   "source": [
    "print(isValidDate(2024, 2, 28))"
   ]
  },
  {
   "cell_type": "code",
   "execution_count": 19,
   "id": "20b2b4d5-892b-4eb4-bf55-1b427a6f99e7",
   "metadata": {},
   "outputs": [
    {
     "name": "stdout",
     "output_type": "stream",
     "text": [
      "True\n"
     ]
    }
   ],
   "source": [
    "print(isValidDate(2025, 5, 14))"
   ]
  },
  {
   "cell_type": "code",
   "execution_count": 18,
   "id": "b1d75189-98aa-42ed-b8bc-099615431efe",
   "metadata": {},
   "outputs": [
    {
     "name": "stdout",
     "output_type": "stream",
     "text": [
      "True\n"
     ]
    }
   ],
   "source": [
    "print(isValidDate(2024, 2, 29))"
   ]
  },
  {
   "cell_type": "code",
   "execution_count": 20,
   "id": "ce2d0ac8-32ea-4a89-a6a4-d5eed8003ff5",
   "metadata": {},
   "outputs": [
    {
     "name": "stdout",
     "output_type": "stream",
     "text": [
      "Generated CAPTCHA: 6kAPvAq**1%\n"
     ]
    }
   ],
   "source": [
    "import random\n",
    "import string\n",
    "\n",
    "def generate_captcha():\n",
    "    length = random.randint(8, 12)\n",
    "    uppercase = string.ascii_uppercase\n",
    "    lowercase = string.ascii_lowercase\n",
    "    digits = string.digits\n",
    "    special = ':~!@#$%^&*()_+'\n",
    "    \n",
    "    captcha = [\n",
    "        random.choice(uppercase),\n",
    "        random.choice(lowercase),\n",
    "        random.choice(digits),\n",
    "        random.choice(special)\n",
    "    ]\n",
    "    \n",
    "    all_chars = uppercase + lowercase + digits + special\n",
    "    for _ in range(length - 4):\n",
    "        captcha.append(random.choice(all_chars))\n",
    "    \n",
    "    random.shuffle(captcha)\n",
    "    return ''.join(captcha)\n",
    "\n",
    "print(\"Generated CAPTCHA:\", generate_captcha())"
   ]
  },
  {
   "cell_type": "code",
   "execution_count": null,
   "id": "6e1b9d21-a034-40da-b62a-65cce88be227",
   "metadata": {},
   "outputs": [],
   "source": []
  }
 ],
 "metadata": {
  "kernelspec": {
   "display_name": "Python 3 (ipykernel)",
   "language": "python",
   "name": "python3"
  },
  "language_info": {
   "codemirror_mode": {
    "name": "ipython",
    "version": 3
   },
   "file_extension": ".py",
   "mimetype": "text/x-python",
   "name": "python",
   "nbconvert_exporter": "python",
   "pygments_lexer": "ipython3",
   "version": "3.12.7"
  }
 },
 "nbformat": 4,
 "nbformat_minor": 5
}
